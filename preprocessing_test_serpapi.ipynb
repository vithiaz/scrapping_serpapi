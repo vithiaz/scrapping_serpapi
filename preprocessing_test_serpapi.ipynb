{
 "cells": [
  {
   "cell_type": "code",
   "execution_count": null,
   "id": "229d79e4",
   "metadata": {},
   "outputs": [],
   "source": [
    "import urllib.parse\n",
    "import requests\n",
    "import pandas as pd\n",
    "from datetime import datetime\n",
    "import numpy as np\n",
    "import matplotlib.pyplot as plt"
   ]
  },
  {
   "cell_type": "markdown",
   "id": "701d437f",
   "metadata": {},
   "source": [
    "# Load the Scrapped CSV"
   ]
  },
  {
   "cell_type": "code",
   "execution_count": null,
   "id": "42a4fa9e",
   "metadata": {},
   "outputs": [],
   "source": [
    "df = pd.read_csv('dataset/pantarlih.csv')\n",
    "df = df.drop(columns='Unnamed: 0')\n",
    "df"
   ]
  },
  {
   "cell_type": "code",
   "execution_count": null,
   "id": "abf0860b",
   "metadata": {
    "scrolled": true
   },
   "outputs": [],
   "source": [
    "df['date'].unique()"
   ]
  },
  {
   "cell_type": "code",
   "execution_count": null,
   "id": "dc56a848",
   "metadata": {},
   "outputs": [],
   "source": [
    "def str_timedelta_to_datetime(string):\n",
    "    str_lower = string.lower();\n",
    "    split = np.array(str_lower.split())\n",
    "    result = None\n",
    "    \n",
    "    if (split[-1] == 'lalu'):\n",
    "        for cat in ['detik', 'menit', 'jam', 'hari', 'minggu']:\n",
    "            x = split[np.where(split == cat)[0] - 1]\n",
    "            if(len(x) < 1):\n",
    "                continue\n",
    "            else:\n",
    "                amount = int(x[0])\n",
    "                if(cat == 'detik'):\n",
    "                    deltaSubstract = pd.Timedelta(seconds=amount)\n",
    "                elif(cat == 'menit'):\n",
    "                    deltaSubstract = pd.Timedelta(minutes=amount)\n",
    "                elif(cat == 'jam'):\n",
    "                    deltaSubstract = pd.Timedelta(hours=amount)\n",
    "                elif(cat == 'hari'):\n",
    "                    deltaSubstract = pd.Timedelta(days=amount)\n",
    "                elif(cat == 'minggu'):\n",
    "                    deltaSubstract = pd.Timedelta(weeks=amount)\n",
    "\n",
    "                substract_res = pd.date_range(datetime.now(), periods=1) - deltaSubstract\n",
    "                result = substract_res[0].date()\n",
    "                \n",
    "    elif (split[-1] == 'ago'):\n",
    "        for cat in ['seconds', 'minutes', 'hours', 'days', 'weeks']:\n",
    "            x = split[np.where(split == cat)[0] - 1]\n",
    "            if(len(x) < 1):\n",
    "                continue\n",
    "            else:\n",
    "                amount = int(x[0])\n",
    "                if(cat == 'seconds'):\n",
    "                    deltaSubstract = pd.Timedelta(seconds=amount)\n",
    "                elif(cat == 'minutes'):\n",
    "                    deltaSubstract = pd.Timedelta(minutes=amount)\n",
    "                elif(cat == 'hours'):\n",
    "                    deltaSubstract = pd.Timedelta(hours=amount)\n",
    "                elif(cat == 'days'):\n",
    "                    deltaSubstract = pd.Timedelta(days=amount)\n",
    "                elif(cat == 'weeks'):\n",
    "                    deltaSubstract = pd.Timedelta(weeks=amount)\n",
    "\n",
    "                substract_res = pd.date_range(datetime.now(), periods=1) - deltaSubstract\n",
    "                result = substract_res[0].date()\n",
    "                \n",
    "    return result"
   ]
  },
  {
   "cell_type": "code",
   "execution_count": null,
   "id": "f464b9be",
   "metadata": {},
   "outputs": [],
   "source": [
    "def translate_date(string):\n",
    "    string = string.lower()\n",
    "    month_list = np.array([\n",
    "        'jan',\n",
    "        'feb',\n",
    "        'mar',\n",
    "        'apr',\n",
    "        'mei', 'may',\n",
    "        'jun', 'june',\n",
    "        'jul', 'july',\n",
    "        'agu', 'aug',\n",
    "        'sep', 'sept',\n",
    "        'okt', 'oct',\n",
    "        'nov',\n",
    "        'des', 'dec',\n",
    "        ])\n",
    "    \n",
    "    month_dict = {\n",
    "        'jan' : 'jan',\n",
    "        'feb' : 'feb',\n",
    "        'mar' : 'mar',\n",
    "        'apr' : 'apr',\n",
    "        'may' : 'mei',\n",
    "        'jun' : 'jun',\n",
    "        'jul' : 'jul',\n",
    "        'aug' : 'agu',\n",
    "        'sep' : 'sep',\n",
    "        'oct' : 'okt',\n",
    "        'nov' : 'nov',\n",
    "        'dec' : 'des',\n",
    "    }\n",
    "    \n",
    "    month = \"\".join(re.split(\"[^a-zA-Z]*\", string))\n",
    "        \n",
    "    if (len(np.where(month_list == month)[0]) > 0):\n",
    "        \n",
    "        str_res = string\n",
    "        for index, key in month_dict.items():\n",
    "            if (month == key):\n",
    "                str_res = string.replace(key, index)\n",
    "        return pd.to_datetime(str_res).date()\n",
    "    else:\n",
    "        return str_timedelta_to_datetime(string)"
   ]
  },
  {
   "cell_type": "code",
   "execution_count": null,
   "id": "6a17a8fe",
   "metadata": {},
   "outputs": [],
   "source": [
    "for index, row in df.iterrows():\n",
    "    val = df.loc[index, 'date']\n",
    "    df.loc[index, 'date'] = translate_date(val)\n",
    "df"
   ]
  },
  {
   "cell_type": "code",
   "execution_count": null,
   "id": "b7ef8a23",
   "metadata": {},
   "outputs": [],
   "source": [
    "df.isna().sum()"
   ]
  },
  {
   "cell_type": "code",
   "execution_count": null,
   "id": "ec802371",
   "metadata": {},
   "outputs": [],
   "source": [
    "df = df.dropna()\n",
    "df.describe()"
   ]
  },
  {
   "cell_type": "code",
   "execution_count": null,
   "id": "128e2321",
   "metadata": {},
   "outputs": [],
   "source": [
    "df[['title']].groupby(df['date']).count()"
   ]
  },
  {
   "cell_type": "code",
   "execution_count": null,
   "id": "0946fe0b",
   "metadata": {},
   "outputs": [],
   "source": [
    "import matplotlib.pyplot as plt\n",
    "\n",
    "plt.plot(df[['title']].groupby(df['date']).count())"
   ]
  }
 ],
 "metadata": {
  "kernelspec": {
   "display_name": "Python 3 (ipykernel)",
   "language": "python",
   "name": "python3"
  },
  "language_info": {
   "codemirror_mode": {
    "name": "ipython",
    "version": 3
   },
   "file_extension": ".py",
   "mimetype": "text/x-python",
   "name": "python",
   "nbconvert_exporter": "python",
   "pygments_lexer": "ipython3",
   "version": "3.9.13"
  }
 },
 "nbformat": 4,
 "nbformat_minor": 5
}
